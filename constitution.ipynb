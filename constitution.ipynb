{
 "cells": [
  {
   "cell_type": "markdown",
   "metadata": {},
   "source": [
    "# A graph of the articles of the Constitution of India\n",
    "\n",
    "**Data source**: # https://web.archive.org/web/20081022080607/http://www.commonlii.org/in/legis/const/2004/index.html"
   ]
  },
  {
   "cell_type": "code",
   "execution_count": 1,
   "metadata": {},
   "outputs": [],
   "source": [
    "import re\n",
    "import networkx as nx\n",
    "from collections import defaultdict"
   ]
  },
  {
   "cell_type": "markdown",
   "metadata": {},
   "source": [
    "The text of the constitution was manually copied into a single text file."
   ]
  },
  {
   "cell_type": "markdown",
   "metadata": {},
   "source": [
    "## Reading in the file"
   ]
  },
  {
   "cell_type": "code",
   "execution_count": 2,
   "metadata": {},
   "outputs": [],
   "source": [
    "with open('constitution.txt', 'r') as f:\n",
    "    lines = f.readlines()"
   ]
  },
  {
   "cell_type": "markdown",
   "metadata": {},
   "source": [
    "## Splitting into Articles\n",
    "\n",
    "This is based on the observation that an Article begins with a number followed optionally by a letter and then a dot.\n",
    "\n",
    "Whenever a line begins in such a way, it is considered as the beginning of a new Article. As such it does not care about the text delimiting PARTs."
   ]
  },
  {
   "cell_type": "code",
   "execution_count": 3,
   "metadata": {},
   "outputs": [],
   "source": [
    "articles = defaultdict(str)\n",
    "articleno = 0\n",
    "for line in lines:\n",
    "    match = re.match('^\\d+\\w?\\.', line) # re.match('^\\d+\\.|\\d+\\w\\.', line)\n",
    "    if match:\n",
    "        articleno = match.string[match.start():match.end()].replace('.', '')\n",
    "    articles[articleno] += line"
   ]
  },
  {
   "cell_type": "code",
   "execution_count": 4,
   "metadata": {},
   "outputs": [
    {
     "name": "stdout",
     "output_type": "stream",
     "text": [
      "List of articles: [0, '1', '2', '2A', '3', '4', '5', '6', '7', '8', '9', '10', '11', '12', '13', '14', '15', '16', '17', '18', '19', '20', '21', '22', '23', '24', '25', '26', '27', '28', '29', '30', '31', '31A', '31B', '31C', '31D', '32', '32A', '33', '34', '35', '36', '37', '38', '39', '39A', '40', '41', '42', '43', '43A', '44', '45', '46', '47', '48', '48A', '49', '50', '51', '51A', '52', '53', '54', '55', '56', '57', '58', '59', '60', '61', '62', '63', '64', '65', '66', '67', '68', '69', '70', '71', '72', '73', '74', '75', '76', '77', '78', '79', '80', '81', '82', '83', '84', '85', '86', '87', '88', '89', '90', '91', '92', '93', '94', '95', '96', '97', '98', '99', '100', '101', '102', '103', '104', '105', '106', '107', '108', '109', '110', '111', '112', '113', '114', '115', '116', '117', '118', '119', '120', '121', '122', '123', '124', '125', '126', '127', '128', '129', '130', '131', '131A', '132', '133', '134', '134A', '135', '136', '137', '138', '139', '139A', '140', '141', '142', '143', '144', '144A', '145', '146', '147', '148', '149', '150', '151', '152', '153', '154', '155', '156', '157', '158', '159', '160', '161', '162', '163', '164', '165', '166', '167', '168', '169', '170', '171', '172', '173', '174', '175', '176', '177', '178', '179', '180', '181', '182', '183', '184', '185', '186', '187', '188', '189', '190', '191', '192', '193', '194', '195', '196', '197', '198', '199', '200', '201', '202', '203', '204', '205', '206', '207', '208', '209', '210', '211', '212', '213', '214', '215', '216', '217', '218', '219', '220', '221', '222', '223', '224', '224A', '225', '226', '226A', '227', '228', '228A', '229', '230', '231', '233', '233A', '234', '235', '236', '237', '239', '239A', '239B', '240', '241', '242', '243', '243A', '243B', '243C', '243D', '243E', '243F', '243G', '243H', '243J', '243K', '243L', '243M', '243N', '243P', '243Q', '243R', '243S', '243T', '243U', '243V', '243W', '243X', '243Y', '243Z', '244', '244A', '245', '246', '247', '248', '249', '250', '251', '252', '253', '254', '255', '256', '257', '257A', '258', '258A', '259', '260', '261', '262', '263', '264', '265', '266', '267', '268', '269', '270', '271', '272', '273', '274', '275', '276', '277', '278', '279', '280', '281', '282', '283', '284', '285', '286', '287', '288', '289', '290', '290A', '291', '292', '293', '294', '295', '296', '297', '298', '299', '300', '300A', '301', '302', '303', '304', '305', '306', '307', '308', '309', '310', '311', '312', '312A', '313', '314', '315', '316', '317', '318', '319', '320', '321', '322', '323', '323A', '323B', '324', '325', '326', '327', '328', '329', '329A', '330', '331', '332', '333', '334', '335', '336', '337', '338', '338A', '339', '340', '341', '342', '343', '344', '345', '346', '347', '348', '349', '350', '350A', '350B', '351', '352', '353', '354', '355', '356', '357', '358', '359', '359A', '360', '361', '361A', '361B', '362', '363', '363A', '364', '365', '366', '367', '368', '369', '371', '371A', '371B', '371C', '371D', '371E', '371F', '371G', '371H', '372', '372A', '373', '374', '375', '376', '377', '378', '378A', '379', '392', '393', '394', '394A', '395']\n"
     ]
    }
   ],
   "source": [
    "print(f'List of articles: {list(articles.keys())}')"
   ]
  },
  {
   "cell_type": "markdown",
   "metadata": {},
   "source": [
    "## Creating a graph based on mentions\n",
    "\n",
    "This is based on observing the patterns of how Articles are mentioned in the text.\n",
    "\n",
    "e.g. \"article 234\", \"articles 123 and 145\", \"articles 124, 125 and 135\" etc\n",
    "\n",
    "When such mentions are found a link is created between the Articles."
   ]
  },
  {
   "cell_type": "code",
   "execution_count": 5,
   "metadata": {},
   "outputs": [],
   "source": [
    "patterns = [r\"article \\d+\\w?\",\n",
    "            r\"articles (\\d+\\w?, ){0}\\d+\\w? and \\d+\\w?\", \n",
    "            r\"articles (\\d+\\w?, ){1}\\d+\\w? and \\d+\\w?\",\n",
    "            r\"articles (\\d+\\w?, ){2}\\d+\\w? and \\d+\\w?\",\n",
    "            r\"articles (\\d+\\w?, ){3}\\d+\\w? and \\d+\\w?\",\n",
    "            r\"articles (\\d+\\w?, ){4}\\d+\\w? and \\d+\\w?\",\n",
    "            r\"articles (\\d+\\w?, ){5}\\d+\\w? and \\d+\\w?\",\n",
    "            r\"articles (\\d+\\w?, ){6}\\d+\\w? and \\d+\\w?\",\n",
    "            r\"articles (\\d+\\w?, ){7}\\d+\\w? and \\d+\\w?\",\n",
    "            r\"articles (\\d+\\w?, ){8}\\d+\\w? and \\d+\\w?\",\n",
    "            r\"articles (\\d+\\w?, ){9}\\d+\\w? and \\d+\\w?\",\n",
    "            r\"articles (\\d+\\w?, ){10}\\d+\\w? and \\d+\\w?\",\n",
    "            r\"articles (\\d+\\w?, ){11}\\d+\\w? and \\d+\\w?\",\n",
    "            r\"articles (\\d+\\w?, ){12}\\d+\\w? and \\d+\\w?\",\n",
    "            r\"articles (\\d+\\w?, ){13}\\d+\\w? and \\d+\\w?\"]"
   ]
  },
  {
   "cell_type": "code",
   "execution_count": 6,
   "metadata": {},
   "outputs": [],
   "source": [
    "g = nx.Graph()"
   ]
  },
  {
   "cell_type": "code",
   "execution_count": 7,
   "metadata": {},
   "outputs": [],
   "source": [
    "for article, text in articles.items():\n",
    "    for pattern in patterns:\n",
    "        mentions = [x.string[x.start():x.end()] \n",
    "                    for x in \n",
    "                    re.finditer(pattern, text)] # sample: \"articles 12, 33A and 53\"\n",
    "\n",
    "        if len(mentions) > 0:\n",
    "            for mention in mentions:\n",
    "                mentioned_articles = re.findall(r'\\d+\\w?', mention) # sample: [12, 33A, 53]\n",
    "                for mentioned_article in mentioned_articles:\n",
    "                    g.add_edge(mentioned_article, article)"
   ]
  },
  {
   "cell_type": "markdown",
   "metadata": {},
   "source": [
    "# Analyzing the Graph"
   ]
  },
  {
   "cell_type": "markdown",
   "metadata": {},
   "source": [
    "Out of the 452 (inclusive of the ones with letter suffixes) Articles that were discovered, 236 seem to have some connection to another."
   ]
  },
  {
   "cell_type": "code",
   "execution_count": 8,
   "metadata": {},
   "outputs": [
    {
     "data": {
      "text/plain": [
       "236"
      ]
     },
     "execution_count": 8,
     "metadata": {},
     "output_type": "execute_result"
    }
   ],
   "source": [
    "len(g.nodes)"
   ]
  },
  {
   "cell_type": "markdown",
   "metadata": {},
   "source": [
    "Article 394 scores high in various graph centrality measures, but that's mostly because of this one historic line: \n",
    "\n",
    "**\"This article and articles 5, 6, 7, 8, 9, 60, 324, 366, 367, 379, 380, 388, 391, 392 and 393 shall come into force at once, and the remaining provisions of this Constitution shall come into force on the twenty-sixth day of January, 1950, which day is referred to in this Constitution as the commencement of this Constitution.\"**\n",
    "\n",
    "Getting the nodes with the highest scores for a few of the measures below so that 394 doesn't hog all the limelight..."
   ]
  },
  {
   "cell_type": "markdown",
   "metadata": {},
   "source": [
    "### Most connected Articles"
   ]
  },
  {
   "cell_type": "code",
   "execution_count": 9,
   "metadata": {},
   "outputs": [
    {
     "data": {
      "text/plain": [
       "['394', '368', '239A']"
      ]
     },
     "execution_count": 9,
     "metadata": {},
     "output_type": "execute_result"
    }
   ],
   "source": [
    "d = dict(nx.degree(g))\n",
    "sorted(d, key=d.get, reverse=True)[:3]"
   ]
  },
  {
   "cell_type": "markdown",
   "metadata": {},
   "source": [
    "### Articles with high betweenness centrality"
   ]
  },
  {
   "cell_type": "code",
   "execution_count": 10,
   "metadata": {},
   "outputs": [
    {
     "data": {
      "text/plain": [
       "['368', '13', '394']"
      ]
     },
     "execution_count": 10,
     "metadata": {},
     "output_type": "execute_result"
    }
   ],
   "source": [
    "d = dict(nx.betweenness_centrality(g))\n",
    "sorted(d, key=d.get, reverse=True)[:3]"
   ]
  },
  {
   "cell_type": "markdown",
   "metadata": {},
   "source": [
    "### Articles with high eigenvector centrality"
   ]
  },
  {
   "cell_type": "code",
   "execution_count": 11,
   "metadata": {},
   "outputs": [
    {
     "data": {
      "text/plain": [
       "['394', '5', '6']"
      ]
     },
     "execution_count": 11,
     "metadata": {},
     "output_type": "execute_result"
    }
   ],
   "source": [
    "d = dict(nx.eigenvector_centrality(g))\n",
    "sorted(d, key=d.get, reverse=True)[:3]"
   ]
  },
  {
   "cell_type": "markdown",
   "metadata": {},
   "source": [
    "### Edges with high betweenness"
   ]
  },
  {
   "cell_type": "code",
   "execution_count": 12,
   "metadata": {},
   "outputs": [
    {
     "data": {
      "text/plain": [
       "[('368', '13'), ('368', '239A'), ('13', '31A')]"
      ]
     },
     "execution_count": 12,
     "metadata": {},
     "output_type": "execute_result"
    }
   ],
   "source": [
    "d = dict(nx.edge_betweenness_centrality(g))\n",
    "sorted(d, key=d.get, reverse=True)[:3]"
   ]
  },
  {
   "cell_type": "markdown",
   "metadata": {},
   "source": [
    "## Creating an Obsidian Vault\n",
    "\n",
    "Using the same ideas as above, we create an [Obsidian](https://obsidian.md) vault (bunch of .md files in a folder), with the Article numbers surrounded in double square brackets."
   ]
  },
  {
   "cell_type": "code",
   "execution_count": 13,
   "metadata": {},
   "outputs": [],
   "source": [
    "for article, text in articles.items():\n",
    "    with open(f'obsidian/{article}.md', 'w') as f:\n",
    "        for pattern in patterns:\n",
    "            mentions = [x.string[x.start():x.end()] \n",
    "                        for x in \n",
    "                        re.finditer(pattern, text)]\n",
    "\n",
    "            if len(mentions) > 0:\n",
    "                for mention in mentions:\n",
    "                    new_mention = re.sub(r'(\\d+\\w?)', '[[\\\\1]]', mention) + ' '\n",
    "                    text = re.sub(re.compile(mention + '[\\,|\\.| ]'), new_mention, text)\n",
    "\n",
    "        f.write(text)"
   ]
  },
  {
   "cell_type": "markdown",
   "metadata": {},
   "source": [
    "And now when the folder is opened in Obsidian, we get a novel UI to interact with the Constitution of India with links, backlinks, search, and a cool graphs!"
   ]
  }
 ],
 "metadata": {
  "kernelspec": {
   "display_name": "Python 3",
   "language": "python",
   "name": "python3"
  },
  "language_info": {
   "codemirror_mode": {
    "name": "ipython",
    "version": 3
   },
   "file_extension": ".py",
   "mimetype": "text/x-python",
   "name": "python",
   "nbconvert_exporter": "python",
   "pygments_lexer": "ipython3",
   "version": "3.7.3"
  }
 },
 "nbformat": 4,
 "nbformat_minor": 2
}
